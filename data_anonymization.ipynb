{
 "cells": [
  {
   "cell_type": "markdown",
   "id": "67a2594b",
   "metadata": {},
   "source": [
    "# Anonimización Pulpocon 2023"
   ]
  },
  {
   "cell_type": "markdown",
   "id": "df4f4384",
   "metadata": {},
   "source": [
    "## Datos y privacidad"
   ]
  },
  {
   "cell_type": "code",
   "execution_count": 435,
   "id": "947e0741",
   "metadata": {},
   "outputs": [],
   "source": [
    "# Información -> explotación"
   ]
  },
  {
   "cell_type": "code",
   "execution_count": 436,
   "id": "211205e1",
   "metadata": {},
   "outputs": [],
   "source": [
    "# Datos personales y GDPR\n",
    "# Privacidad -> Anonimización"
   ]
  },
  {
   "cell_type": "markdown",
   "id": "5485891f",
   "metadata": {},
   "source": [
    "### Dataset de detección de dificultades en el pago de préstamos"
   ]
  },
  {
   "cell_type": "code",
   "execution_count": 437,
   "id": "be9066c7",
   "metadata": {},
   "outputs": [
    {
     "name": "stdout",
     "output_type": "stream",
     "text": [
      "<class 'pandas.core.frame.DataFrame'>\n",
      "RangeIndex: 307511 entries, 0 to 307510\n",
      "Data columns (total 6 columns):\n",
      " #   Column            Non-Null Count   Dtype  \n",
      "---  ------            --------------   -----  \n",
      " 0   SK_ID_CURR        307511 non-null  int64  \n",
      " 1   AMT_INCOME_TOTAL  307511 non-null  float64\n",
      " 2   AMT_CREDIT        307511 non-null  float64\n",
      " 3   DAYS_BIRTH        307511 non-null  int64  \n",
      " 4   DAYS_EMPLOYED     307511 non-null  int64  \n",
      " 5   TARGET            307511 non-null  int64  \n",
      "dtypes: float64(2), int64(4)\n",
      "memory usage: 14.1 MB\n"
     ]
    }
   ],
   "source": [
    "# Dataset: https://www.kaggle.com/datasets/mishra5001/credit-card\n",
    "\n",
    "import pandas as pd\n",
    "\n",
    "df = pd.read_csv('data/application_data_selected.csv')\n",
    "\n",
    "df.info()"
   ]
  },
  {
   "cell_type": "code",
   "execution_count": 438,
   "id": "8bb03428",
   "metadata": {},
   "outputs": [
    {
     "data": {
      "text/html": [
       "<div>\n",
       "<style scoped>\n",
       "    .dataframe tbody tr th:only-of-type {\n",
       "        vertical-align: middle;\n",
       "    }\n",
       "\n",
       "    .dataframe tbody tr th {\n",
       "        vertical-align: top;\n",
       "    }\n",
       "\n",
       "    .dataframe thead th {\n",
       "        text-align: right;\n",
       "    }\n",
       "</style>\n",
       "<table border=\"1\" class=\"dataframe\">\n",
       "  <thead>\n",
       "    <tr style=\"text-align: right;\">\n",
       "      <th></th>\n",
       "      <th>SK_ID_CURR</th>\n",
       "      <th>AMT_INCOME_TOTAL</th>\n",
       "      <th>AMT_CREDIT</th>\n",
       "      <th>DAYS_BIRTH</th>\n",
       "      <th>DAYS_EMPLOYED</th>\n",
       "      <th>TARGET</th>\n",
       "    </tr>\n",
       "  </thead>\n",
       "  <tbody>\n",
       "    <tr>\n",
       "      <th>0</th>\n",
       "      <td>100002</td>\n",
       "      <td>202500.0</td>\n",
       "      <td>406597.5</td>\n",
       "      <td>-9461</td>\n",
       "      <td>-637</td>\n",
       "      <td>1</td>\n",
       "    </tr>\n",
       "    <tr>\n",
       "      <th>1</th>\n",
       "      <td>100003</td>\n",
       "      <td>270000.0</td>\n",
       "      <td>1293502.5</td>\n",
       "      <td>-16765</td>\n",
       "      <td>-1188</td>\n",
       "      <td>0</td>\n",
       "    </tr>\n",
       "    <tr>\n",
       "      <th>2</th>\n",
       "      <td>100004</td>\n",
       "      <td>67500.0</td>\n",
       "      <td>135000.0</td>\n",
       "      <td>-19046</td>\n",
       "      <td>-225</td>\n",
       "      <td>0</td>\n",
       "    </tr>\n",
       "    <tr>\n",
       "      <th>3</th>\n",
       "      <td>100006</td>\n",
       "      <td>135000.0</td>\n",
       "      <td>312682.5</td>\n",
       "      <td>-19005</td>\n",
       "      <td>-3039</td>\n",
       "      <td>0</td>\n",
       "    </tr>\n",
       "    <tr>\n",
       "      <th>4</th>\n",
       "      <td>100007</td>\n",
       "      <td>121500.0</td>\n",
       "      <td>513000.0</td>\n",
       "      <td>-19932</td>\n",
       "      <td>-3038</td>\n",
       "      <td>0</td>\n",
       "    </tr>\n",
       "  </tbody>\n",
       "</table>\n",
       "</div>"
      ],
      "text/plain": [
       "   SK_ID_CURR  AMT_INCOME_TOTAL  AMT_CREDIT  DAYS_BIRTH  DAYS_EMPLOYED  TARGET\n",
       "0      100002          202500.0    406597.5       -9461           -637       1\n",
       "1      100003          270000.0   1293502.5      -16765          -1188       0\n",
       "2      100004           67500.0    135000.0      -19046           -225       0\n",
       "3      100006          135000.0    312682.5      -19005          -3039       0\n",
       "4      100007          121500.0    513000.0      -19932          -3038       0"
      ]
     },
     "execution_count": 438,
     "metadata": {},
     "output_type": "execute_result"
    }
   ],
   "source": [
    "selected_cols = [\n",
    "    'SK_ID_CURR',\n",
    "    'AMT_INCOME_TOTAL',\n",
    "    'AMT_CREDIT',\n",
    "    'DAYS_BIRTH',\n",
    "    'DAYS_EMPLOYED',\n",
    "    'TARGET',\n",
    " ]\n",
    "\n",
    "data = df[selected_cols].copy()\n",
    "\n",
    "data.head()"
   ]
  },
  {
   "cell_type": "markdown",
   "id": "fa5af091",
   "metadata": {},
   "source": [
    "Este es un dataset con información privada de los clientes de una entidad bancaria que han pedido un préstamo. Contiene información que pueden identificarlos, además de información sensible como es la financiera.\n",
    "\n",
    "Descripción de la columnas:\n",
    "\n",
    "- SK_ID_CURR: id del préstamo.\n",
    "\n",
    "- AMT_INCOME_TOTAL: ingresos del cliente.\n",
    "\n",
    "- AMT_CREDIT: importe del préstamo.\n",
    "\n",
    "- DAYS_BIRTH: edad del cliente en días en el momento de la solicitud.\n",
    "\n",
    "- DAYS_EMPLOYED: cuántos días antes de la solicitud la persona empezó a trabajar.\n",
    "\n",
    "- TARGET: cliente con dificultades de pago (1 - tuvo retrasos en el pago de más de X días en al menos una de las primeras Y cuotas del préstamo, 0 - todos los demás casos\n",
    "\n",
    "Como TARGET es binaria y no nos interesa tocarla, no modificaremos esa columna"
   ]
  },
  {
   "cell_type": "code",
   "execution_count": 439,
   "id": "87b28102",
   "metadata": {},
   "outputs": [],
   "source": [
    "sensitive_cols = [\n",
    "    'AMT_INCOME_TOTAL',\n",
    "    'AMT_CREDIT',\n",
    "    'DAYS_BIRTH',\n",
    "    'DAYS_EMPLOYED'\n",
    " ]"
   ]
  },
  {
   "cell_type": "code",
   "execution_count": 440,
   "id": "a88bb959",
   "metadata": {},
   "outputs": [
    {
     "data": {
      "application/vnd.jupyter.widget-view+json": {
       "model_id": "e85a9e867c884d46b2b033d7980ab72d",
       "version_major": 2,
       "version_minor": 0
      },
      "text/plain": [
       "Summarize dataset:   0%|          | 0/5 [00:00<?, ?it/s]"
      ]
     },
     "metadata": {},
     "output_type": "display_data"
    },
    {
     "name": "stderr",
     "output_type": "stream",
     "text": [
      "/home/iabad/anaconda3/envs/ml-py39/lib/python3.9/site-packages/ydata_profiling/model/pandas/discretize_pandas.py:52: FutureWarning: In a future version, `df.iloc[:, i] = newvals` will attempt to set the values inplace instead of always setting a new array. To retain the old behavior, use either `df[df.columns[i]] = newvals` or, if columns are non-unique, `df.isetitem(i, newvals)`\n",
      "  discretized_df.loc[:, column] = self._discretize_column(\n"
     ]
    },
    {
     "data": {
      "application/vnd.jupyter.widget-view+json": {
       "model_id": "a6474e2672054e1296fe9001d3dc7ebf",
       "version_major": 2,
       "version_minor": 0
      },
      "text/plain": [
       "Generate report structure:   0%|          | 0/1 [00:00<?, ?it/s]"
      ]
     },
     "metadata": {},
     "output_type": "display_data"
    },
    {
     "data": {
      "application/vnd.jupyter.widget-view+json": {
       "model_id": "e60a94f928d648829050acc5e3b65230",
       "version_major": 2,
       "version_minor": 0
      },
      "text/plain": [
       "Render HTML:   0%|          | 0/1 [00:00<?, ?it/s]"
      ]
     },
     "metadata": {},
     "output_type": "display_data"
    },
    {
     "data": {
      "application/vnd.jupyter.widget-view+json": {
       "model_id": "4455fa88e7d8477493348c8e2e67a38f",
       "version_major": 2,
       "version_minor": 0
      },
      "text/plain": [
       "Export report to file:   0%|          | 0/1 [00:00<?, ?it/s]"
      ]
     },
     "metadata": {},
     "output_type": "display_data"
    }
   ],
   "source": [
    "from ydata_profiling import ProfileReport\n",
    "\n",
    "prof = ProfileReport(data)\n",
    "prof.to_file(output_file='reports/application_data_report.html')"
   ]
  },
  {
   "cell_type": "markdown",
   "id": "2b1950bc",
   "metadata": {},
   "source": [
    "Como podemos comprobar, este dataset tiene identificadores, pero en principio podríamos pensar que son privados y solo la entidad propietaria sabe a qué usuario se corresponden.\n",
    "\n",
    "Sin embargo, esta técnica por si sola no basta para anonimizar cualquier información, solamente sirve para dificultar la identificación de las personas que se encuentran en esos datos.\n",
    "\n",
    "Ejemplos de estos tipos de técnicas son:\n",
    "\n",
    "- Seudonimización (pseudonymization): sustituir identificadores personales por identificadores sintéticos privados.\n",
    "\n",
    "- Enmascarado (masking): ocultar, total o parcialmente, la información personal, sustituyéndola por otros caracteres.\n",
    "\n",
    "- Intercambio (swapping): intercambiar información sensible en un conjunto ordenado, bien entre diferentes datos de la misma persona o entre datos de distintas personas."
   ]
  },
  {
   "cell_type": "markdown",
   "id": "c428a669",
   "metadata": {},
   "source": [
    "## Anonimización\n",
    "\n",
    "Eliminar o reducir al mínimo el riesgo de identificación de las personas a partir de un conjunto de datos.\n",
    "\n",
    "Se debe asumir que el adversario tiene la mayor cantidad posible de información externa sobre los usuarios, y evaluar así el riesgo de re-identificación."
   ]
  },
  {
   "cell_type": "markdown",
   "id": "d55413ec",
   "metadata": {},
   "source": [
    "Los dos principales mecanismos para anonimizar un dataset son:\n",
    "\n",
    "- **Generalización**: se busca agregar los datos de distintos usuarios para evitar su re-identificación.\n",
    "\n",
    "- **Randomización**: se busca agregar una distorsión a los datos, de modo que no se puedan relacionar con su valor original."
   ]
  },
  {
   "cell_type": "markdown",
   "id": "af44617d",
   "metadata": {},
   "source": [
    "Es necesario tener en cuenta que estas transformaciones de los datos hacen que pierdan parte de su significado original, pero suelen ser necesarias para garantizar una cierta privacidad. Típicamente, cuánto más agresiva la anonimización, más información se perderá, haciendo que los datos pierdan utilidad para futuros usos, como sacar modelos estadísticos de ellos.\n",
    "\n",
    "En estos contextos, es necesario jugar con la privacidad y la utilidad para alcanzar el equilibrio deseado entre ambas, por lo que precisamos de formas de medir ambas variables."
   ]
  },
  {
   "cell_type": "markdown",
   "id": "2b5321fc",
   "metadata": {},
   "source": [
    "### MSE (Error cuadrático medio)"
   ]
  },
  {
   "cell_type": "markdown",
   "id": "1f6f4b84",
   "metadata": {},
   "source": [
    "El MSE es una de las métricas más utilizada para medir pérdida de utilidad. Cuanto mayor sea el error, más información perdemos.\n",
    "\n",
    "Es importante notar que este error saldrá elevado al cuadrado, para saber el error medio en la escala de nuestros datos será necesario hacer la raíz cuadrada."
   ]
  },
  {
   "cell_type": "code",
   "execution_count": 441,
   "id": "a6f98b30",
   "metadata": {},
   "outputs": [],
   "source": [
    "from sklearn.metrics import mean_squared_error\n",
    "\n",
    "def mse_by_col(df1, df2, squared=True):\n",
    "    if df1.columns.difference(df2.columns).size > 0 or df1.shape != df2.shape:\n",
    "        raise ValueError('Dataframes must have same shape and columns')\n",
    "    \n",
    "    result = []\n",
    "    cols = df1.columns\n",
    "    \n",
    "    for col in cols:\n",
    "        result.append(mean_squared_error(df1[col], df2[col], squared=squared))\n",
    "        \n",
    "    return pd.Series(result, index=cols)"
   ]
  },
  {
   "cell_type": "markdown",
   "id": "9079f848",
   "metadata": {},
   "source": [
    "### K-anonymity"
   ]
  },
  {
   "cell_type": "markdown",
   "id": "af2bc0e1",
   "metadata": {},
   "source": [
    "Implica ocultar la identidad de los individuos en un conjunto de datos al asegurarse de que cada fila sea indistinguible entre al menos \"k\" otros registros en términos de atributos compartidos, protegiendo así la privacidad mientras se mantiene la utilidad de los datos. Está muy orientada a la privacidad por generalización.\n",
    "\n",
    "\"K\", por tanto, funciona como una métrica de privacidad: cuanto mayor sea \"k\" en nuestro dataset, mayor privacidad tendremos.\n",
    "\n",
    "En la práctica, \"k\" se calcula como el número de veces que se repite en nuestro dataset la combinación de valores de una fila que menos se repite. Sería como hacer un group_by de todas las columnas y ver el grupo que menos registros contiene."
   ]
  },
  {
   "cell_type": "code",
   "execution_count": 442,
   "id": "68514d3d",
   "metadata": {},
   "outputs": [
    {
     "data": {
      "text/plain": [
       "1"
      ]
     },
     "execution_count": 442,
     "metadata": {},
     "output_type": "execute_result"
    }
   ],
   "source": [
    "def k_anonymity(df, sizes=False):\n",
    "    val_groups = df.groupby(list(df.columns))\n",
    "    groups_count = list(map(int, val_groups.size()))\n",
    "    if sizes:\n",
    "        return groups_count\n",
    "    return min(groups_count)\n",
    "\n",
    "k_anonymity(data)"
   ]
  },
  {
   "cell_type": "markdown",
   "id": "02e8bf8e",
   "metadata": {},
   "source": [
    "El \"k\" de nuestro dataset inicial es 1, lo que quiere decir que hay filas cuya combinación de valores es única. Pero era esperable, ya que sabíamos que hay identificadores únicos en la primera columna."
   ]
  },
  {
   "cell_type": "markdown",
   "id": "8081c5ea",
   "metadata": {},
   "source": [
    "Primer paso de toda anonimización: eliminar identificadores únicos"
   ]
  },
  {
   "cell_type": "code",
   "execution_count": 443,
   "id": "8da31f6f",
   "metadata": {},
   "outputs": [
    {
     "data": {
      "text/plain": [
       "1"
      ]
     },
     "execution_count": 443,
     "metadata": {},
     "output_type": "execute_result"
    }
   ],
   "source": [
    "data.drop('SK_ID_CURR', axis='columns', inplace=True)\n",
    "k_anonymity(data)"
   ]
  },
  {
   "cell_type": "markdown",
   "id": "31dc8d1a",
   "metadata": {},
   "source": [
    "Vemos que sigue sin cumplir k-anonimity, así que será necesario transformar estos datos para garantizar su privacidad."
   ]
  },
  {
   "cell_type": "markdown",
   "id": "e0d6b544",
   "metadata": {},
   "source": [
    "### Mecanismos de generalización"
   ]
  },
  {
   "cell_type": "markdown",
   "id": "d48c5532",
   "metadata": {},
   "source": [
    "La operaciones de generalización más comunes sobre las columnas de un dataset son K-means, redondeo y categorización."
   ]
  },
  {
   "cell_type": "markdown",
   "id": "7e05b130",
   "metadata": {},
   "source": [
    "#### Kmeans"
   ]
  },
  {
   "cell_type": "markdown",
   "id": "cb303924",
   "metadata": {},
   "source": [
    "K-Means es un algoritmo de aprendizaje no supervisado que agrupa un conjunto de datos en \"k\" grupos basados en sus características similares.\n",
    "\n",
    "Funciona asignando puntos de datos al grupo cuyo centroide (punto medio) esté más cercano, y luego actualiza los centroides al calcular el promedio de los puntos asignados. Este proceso se repite iterativamente hasta que los centroides convergen y los grupos se vuelven estables."
   ]
  },
  {
   "cell_type": "code",
   "execution_count": 444,
   "id": "2fdbf0bd",
   "metadata": {},
   "outputs": [],
   "source": [
    "from sklearn.cluster import KMeans\n",
    "\n",
    "def k_means(df, n_clusters=8):\n",
    "    kmeans = KMeans(n_clusters=n_clusters)\n",
    "    kmeans.fit(df)\n",
    "    centroids = kmeans.cluster_centers_\n",
    "    labels = kmeans.labels_\n",
    "\n",
    "    return pd.DataFrame(centroids[labels], columns=df.columns)\n",
    "\n",
    "def k_means_by_col(df, n_clusters=8):\n",
    "    new_df = df.copy()\n",
    "    for col in df.columns:\n",
    "        new_df[[col]] = k_means(df[[col]], n_clusters)\n",
    "        \n",
    "    return new_df"
   ]
  },
  {
   "cell_type": "markdown",
   "id": "dbe42ccc",
   "metadata": {},
   "source": [
    "##### Primera forma de generalizar: Kmeans de todo el dataset"
   ]
  },
  {
   "cell_type": "code",
   "execution_count": 445,
   "id": "bbd542d1",
   "metadata": {},
   "outputs": [
    {
     "name": "stderr",
     "output_type": "stream",
     "text": [
      "/home/iabad/anaconda3/envs/ml-py39/lib/python3.9/site-packages/sklearn/cluster/_kmeans.py:870: FutureWarning: The default value of `n_init` will change from 10 to 'auto' in 1.4. Set the value of `n_init` explicitly to suppress the warning\n",
      "  warnings.warn(\n"
     ]
    },
    {
     "data": {
      "text/html": [
       "<div>\n",
       "<style scoped>\n",
       "    .dataframe tbody tr th:only-of-type {\n",
       "        vertical-align: middle;\n",
       "    }\n",
       "\n",
       "    .dataframe tbody tr th {\n",
       "        vertical-align: top;\n",
       "    }\n",
       "\n",
       "    .dataframe thead th {\n",
       "        text-align: right;\n",
       "    }\n",
       "</style>\n",
       "<table border=\"1\" class=\"dataframe\">\n",
       "  <thead>\n",
       "    <tr style=\"text-align: right;\">\n",
       "      <th></th>\n",
       "      <th>AMT_INCOME_TOTAL</th>\n",
       "      <th>AMT_CREDIT</th>\n",
       "      <th>DAYS_BIRTH</th>\n",
       "      <th>DAYS_EMPLOYED</th>\n",
       "      <th>TARGET</th>\n",
       "    </tr>\n",
       "  </thead>\n",
       "  <tbody>\n",
       "    <tr>\n",
       "      <th>0</th>\n",
       "      <td>137418.925961</td>\n",
       "      <td>2.781911e+05</td>\n",
       "      <td>-15791.096513</td>\n",
       "      <td>72470.088342</td>\n",
       "      <td>1</td>\n",
       "    </tr>\n",
       "    <tr>\n",
       "      <th>1</th>\n",
       "      <td>234560.226161</td>\n",
       "      <td>1.327362e+06</td>\n",
       "      <td>-16426.915818</td>\n",
       "      <td>45988.101161</td>\n",
       "      <td>0</td>\n",
       "    </tr>\n",
       "    <tr>\n",
       "      <th>2</th>\n",
       "      <td>137418.925961</td>\n",
       "      <td>2.781911e+05</td>\n",
       "      <td>-15791.096513</td>\n",
       "      <td>72470.088342</td>\n",
       "      <td>0</td>\n",
       "    </tr>\n",
       "    <tr>\n",
       "      <th>3</th>\n",
       "      <td>137418.925961</td>\n",
       "      <td>2.781911e+05</td>\n",
       "      <td>-15791.096513</td>\n",
       "      <td>72470.088342</td>\n",
       "      <td>0</td>\n",
       "    </tr>\n",
       "    <tr>\n",
       "      <th>4</th>\n",
       "      <td>179851.988823</td>\n",
       "      <td>6.993188e+05</td>\n",
       "      <td>-16183.277976</td>\n",
       "      <td>60359.263656</td>\n",
       "      <td>0</td>\n",
       "    </tr>\n",
       "    <tr>\n",
       "      <th>...</th>\n",
       "      <td>...</td>\n",
       "      <td>...</td>\n",
       "      <td>...</td>\n",
       "      <td>...</td>\n",
       "      <td>...</td>\n",
       "    </tr>\n",
       "    <tr>\n",
       "      <th>307506</th>\n",
       "      <td>137418.925961</td>\n",
       "      <td>2.781911e+05</td>\n",
       "      <td>-15791.096513</td>\n",
       "      <td>72470.088342</td>\n",
       "      <td>0</td>\n",
       "    </tr>\n",
       "    <tr>\n",
       "      <th>307507</th>\n",
       "      <td>137418.925961</td>\n",
       "      <td>2.781911e+05</td>\n",
       "      <td>-15791.096513</td>\n",
       "      <td>72470.088342</td>\n",
       "      <td>0</td>\n",
       "    </tr>\n",
       "    <tr>\n",
       "      <th>307508</th>\n",
       "      <td>179851.988823</td>\n",
       "      <td>6.993188e+05</td>\n",
       "      <td>-16183.277976</td>\n",
       "      <td>60359.263656</td>\n",
       "      <td>0</td>\n",
       "    </tr>\n",
       "    <tr>\n",
       "      <th>307509</th>\n",
       "      <td>137418.925961</td>\n",
       "      <td>2.781911e+05</td>\n",
       "      <td>-15791.096513</td>\n",
       "      <td>72470.088342</td>\n",
       "      <td>1</td>\n",
       "    </tr>\n",
       "    <tr>\n",
       "      <th>307510</th>\n",
       "      <td>179851.988823</td>\n",
       "      <td>6.993188e+05</td>\n",
       "      <td>-16183.277976</td>\n",
       "      <td>60359.263656</td>\n",
       "      <td>0</td>\n",
       "    </tr>\n",
       "  </tbody>\n",
       "</table>\n",
       "<p>307511 rows × 5 columns</p>\n",
       "</div>"
      ],
      "text/plain": [
       "        AMT_INCOME_TOTAL    AMT_CREDIT    DAYS_BIRTH  DAYS_EMPLOYED  TARGET\n",
       "0          137418.925961  2.781911e+05 -15791.096513   72470.088342       1\n",
       "1          234560.226161  1.327362e+06 -16426.915818   45988.101161       0\n",
       "2          137418.925961  2.781911e+05 -15791.096513   72470.088342       0\n",
       "3          137418.925961  2.781911e+05 -15791.096513   72470.088342       0\n",
       "4          179851.988823  6.993188e+05 -16183.277976   60359.263656       0\n",
       "...                  ...           ...           ...            ...     ...\n",
       "307506     137418.925961  2.781911e+05 -15791.096513   72470.088342       0\n",
       "307507     137418.925961  2.781911e+05 -15791.096513   72470.088342       0\n",
       "307508     179851.988823  6.993188e+05 -16183.277976   60359.263656       0\n",
       "307509     137418.925961  2.781911e+05 -15791.096513   72470.088342       1\n",
       "307510     179851.988823  6.993188e+05 -16183.277976   60359.263656       0\n",
       "\n",
       "[307511 rows x 5 columns]"
      ]
     },
     "execution_count": 445,
     "metadata": {},
     "output_type": "execute_result"
    }
   ],
   "source": [
    "data_k4 = data.copy()\n",
    "data_k4[sensitive_cols] = k_means(data[sensitive_cols], n_clusters=4)\n",
    "data_k4\n"
   ]
  },
  {
   "cell_type": "code",
   "execution_count": 446,
   "id": "a72ac6a4",
   "metadata": {},
   "outputs": [
    {
     "data": {
      "text/plain": [
       "1"
      ]
     },
     "execution_count": 446,
     "metadata": {},
     "output_type": "execute_result"
    }
   ],
   "source": [
    "k_anonymity(data_k4)"
   ]
  },
  {
   "cell_type": "markdown",
   "id": "a48a558a",
   "metadata": {},
   "source": [
    "Vaya... esto no era lo que esperaba. Hemos encontrado un registro que no conseguimos agrupar con ningún otro, ni usando tan solo 4 grupos."
   ]
  },
  {
   "cell_type": "code",
   "execution_count": 447,
   "id": "4abc155d",
   "metadata": {},
   "outputs": [
    {
     "data": {
      "text/plain": [
       "1.374189e+05    144439\n",
       "1.798520e+05    115514\n",
       "2.345602e+05     47557\n",
       "1.170000e+08         1\n",
       "Name: AMT_INCOME_TOTAL, dtype: int64"
      ]
     },
     "execution_count": 447,
     "metadata": {},
     "output_type": "execute_result"
    }
   ],
   "source": [
    "data_k4['AMT_INCOME_TOTAL'].value_counts()"
   ]
  },
  {
   "cell_type": "code",
   "execution_count": 448,
   "id": "413afec1",
   "metadata": {},
   "outputs": [
    {
     "data": {
      "text/html": [
       "<div>\n",
       "<style scoped>\n",
       "    .dataframe tbody tr th:only-of-type {\n",
       "        vertical-align: middle;\n",
       "    }\n",
       "\n",
       "    .dataframe tbody tr th {\n",
       "        vertical-align: top;\n",
       "    }\n",
       "\n",
       "    .dataframe thead th {\n",
       "        text-align: right;\n",
       "    }\n",
       "</style>\n",
       "<table border=\"1\" class=\"dataframe\">\n",
       "  <thead>\n",
       "    <tr style=\"text-align: right;\">\n",
       "      <th></th>\n",
       "      <th>AMT_INCOME_TOTAL</th>\n",
       "      <th>AMT_CREDIT</th>\n",
       "      <th>DAYS_BIRTH</th>\n",
       "      <th>DAYS_EMPLOYED</th>\n",
       "      <th>TARGET</th>\n",
       "    </tr>\n",
       "  </thead>\n",
       "  <tbody>\n",
       "    <tr>\n",
       "      <th>12840</th>\n",
       "      <td>117000000.0</td>\n",
       "      <td>562491.0</td>\n",
       "      <td>-12615.0</td>\n",
       "      <td>-922.0</td>\n",
       "      <td>1</td>\n",
       "    </tr>\n",
       "  </tbody>\n",
       "</table>\n",
       "</div>"
      ],
      "text/plain": [
       "       AMT_INCOME_TOTAL  AMT_CREDIT  DAYS_BIRTH  DAYS_EMPLOYED  TARGET\n",
       "12840       117000000.0    562491.0    -12615.0         -922.0       1"
      ]
     },
     "execution_count": 448,
     "metadata": {},
     "output_type": "execute_result"
    }
   ],
   "source": [
    "data_k4[data_k4['AMT_INCOME_TOTAL'] == 1.170000e+08]"
   ]
  },
  {
   "cell_type": "code",
   "execution_count": 449,
   "id": "10d44d12",
   "metadata": {},
   "outputs": [
    {
     "data": {
      "text/plain": [
       "AMT_INCOME_TOTAL    117000000.0\n",
       "AMT_CREDIT             562491.0\n",
       "DAYS_BIRTH             -12615.0\n",
       "DAYS_EMPLOYED            -922.0\n",
       "TARGET                      1.0\n",
       "Name: 12840, dtype: float64"
      ]
     },
     "execution_count": 449,
     "metadata": {},
     "output_type": "execute_result"
    }
   ],
   "source": [
    "data.loc[12840]"
   ]
  },
  {
   "cell_type": "markdown",
   "id": "5eadba40",
   "metadata": {},
   "source": [
    "Hemos encontrado un outlier bastante notable, así qeu lo vamos a eliminar y volver a ejecutar K-means, a ver si así no tenemos grupos tan pequeños"
   ]
  },
  {
   "cell_type": "code",
   "execution_count": 450,
   "id": "1cf05240",
   "metadata": {},
   "outputs": [],
   "source": [
    "data.drop(12840, axis=0, inplace=True)\n",
    "data.reset_index(drop=True, inplace=True)"
   ]
  },
  {
   "cell_type": "code",
   "execution_count": 451,
   "id": "762b1f8e",
   "metadata": {},
   "outputs": [
    {
     "name": "stderr",
     "output_type": "stream",
     "text": [
      "/home/iabad/anaconda3/envs/ml-py39/lib/python3.9/site-packages/sklearn/cluster/_kmeans.py:870: FutureWarning: The default value of `n_init` will change from 10 to 'auto' in 1.4. Set the value of `n_init` explicitly to suppress the warning\n",
      "  warnings.warn(\n"
     ]
    },
    {
     "data": {
      "text/plain": [
       "2117"
      ]
     },
     "execution_count": 451,
     "metadata": {},
     "output_type": "execute_result"
    }
   ],
   "source": [
    "data_k4 = data.copy()\n",
    "data_k4[sensitive_cols] = k_means(data[sensitive_cols], n_clusters=4)\n",
    "k_anonymity(data_k4)"
   ]
  },
  {
   "cell_type": "code",
   "execution_count": 452,
   "id": "7a4e7723",
   "metadata": {},
   "outputs": [
    {
     "name": "stdout",
     "output_type": "stream",
     "text": [
      "MSE de Kmeans general:\n",
      "AMT_INCOME_TOTAL    102846.410411\n",
      "AMT_CREDIT          171602.445342\n",
      "DAYS_BIRTH            3617.825037\n",
      "DAYS_EMPLOYED        77740.176862\n",
      "TARGET                   0.000000\n",
      "dtype: float64\n",
      "MSE medio: 71161.37153049634\n"
     ]
    }
   ],
   "source": [
    "print('MSE de Kmeans general:')\n",
    "print(mse_by_col(data, data_k4, squared=False))\n",
    "print('MSE medio:', mse_by_col(data, data_k4, squared=False).mean())"
   ]
  },
  {
   "cell_type": "markdown",
   "id": "910d8b53",
   "metadata": {},
   "source": [
    "Podemos ver como tenemos un K de 1603, lo que implica un riesgo de re-identificación de 0.0624%, por lo que la privacidad es bastante alta. Sin embargo, al hacer tan solo 4 grupos de valores en todo el dataset, tenemos mucha pérdida de utilidad. Tal vez haciendo más grupos conseguiríamos mejorar la utilidad sin sacrificar demasiada privacidad."
   ]
  },
  {
   "cell_type": "markdown",
   "id": "9b26eea9",
   "metadata": {},
   "source": [
    "##### Segunda forma de generalizar: Kmeans por columnas"
   ]
  },
  {
   "cell_type": "markdown",
   "id": "1dda27a7",
   "metadata": {},
   "source": [
    "Al generalizar por columnas perdemos menos utilidad, pero tenemos muchas posibles combinaciones de valores cuando el número de columnas es muy grande, por lo que es fácil que haya combinaciones únicas"
   ]
  },
  {
   "cell_type": "code",
   "execution_count": 453,
   "id": "50e8501c",
   "metadata": {},
   "outputs": [
    {
     "name": "stderr",
     "output_type": "stream",
     "text": [
      "/home/iabad/anaconda3/envs/ml-py39/lib/python3.9/site-packages/sklearn/cluster/_kmeans.py:870: FutureWarning: The default value of `n_init` will change from 10 to 'auto' in 1.4. Set the value of `n_init` explicitly to suppress the warning\n",
      "  warnings.warn(\n",
      "/home/iabad/anaconda3/envs/ml-py39/lib/python3.9/site-packages/sklearn/cluster/_kmeans.py:870: FutureWarning: The default value of `n_init` will change from 10 to 'auto' in 1.4. Set the value of `n_init` explicitly to suppress the warning\n",
      "  warnings.warn(\n",
      "/home/iabad/anaconda3/envs/ml-py39/lib/python3.9/site-packages/sklearn/cluster/_kmeans.py:870: FutureWarning: The default value of `n_init` will change from 10 to 'auto' in 1.4. Set the value of `n_init` explicitly to suppress the warning\n",
      "  warnings.warn(\n",
      "/home/iabad/anaconda3/envs/ml-py39/lib/python3.9/site-packages/sklearn/cluster/_kmeans.py:870: FutureWarning: The default value of `n_init` will change from 10 to 'auto' in 1.4. Set the value of `n_init` explicitly to suppress the warning\n",
      "  warnings.warn(\n"
     ]
    },
    {
     "data": {
      "text/html": [
       "<div>\n",
       "<style scoped>\n",
       "    .dataframe tbody tr th:only-of-type {\n",
       "        vertical-align: middle;\n",
       "    }\n",
       "\n",
       "    .dataframe tbody tr th {\n",
       "        vertical-align: top;\n",
       "    }\n",
       "\n",
       "    .dataframe thead th {\n",
       "        text-align: right;\n",
       "    }\n",
       "</style>\n",
       "<table border=\"1\" class=\"dataframe\">\n",
       "  <thead>\n",
       "    <tr style=\"text-align: right;\">\n",
       "      <th></th>\n",
       "      <th>AMT_INCOME_TOTAL</th>\n",
       "      <th>AMT_CREDIT</th>\n",
       "      <th>DAYS_BIRTH</th>\n",
       "      <th>DAYS_EMPLOYED</th>\n",
       "      <th>TARGET</th>\n",
       "    </tr>\n",
       "  </thead>\n",
       "  <tbody>\n",
       "    <tr>\n",
       "      <th>0</th>\n",
       "      <td>231598.966129</td>\n",
       "      <td>2.468538e+05</td>\n",
       "      <td>-10553.490924</td>\n",
       "      <td>-1070.072054</td>\n",
       "      <td>1</td>\n",
       "    </tr>\n",
       "    <tr>\n",
       "      <th>1</th>\n",
       "      <td>231598.966129</td>\n",
       "      <td>1.080084e+06</td>\n",
       "      <td>-18288.561201</td>\n",
       "      <td>-1070.072054</td>\n",
       "      <td>0</td>\n",
       "    </tr>\n",
       "    <tr>\n",
       "      <th>2</th>\n",
       "      <td>115213.961003</td>\n",
       "      <td>2.468538e+05</td>\n",
       "      <td>-18288.561201</td>\n",
       "      <td>-1070.072054</td>\n",
       "      <td>0</td>\n",
       "    </tr>\n",
       "    <tr>\n",
       "      <th>3</th>\n",
       "      <td>115213.961003</td>\n",
       "      <td>2.468538e+05</td>\n",
       "      <td>-18288.561201</td>\n",
       "      <td>-3722.700020</td>\n",
       "      <td>0</td>\n",
       "    </tr>\n",
       "    <tr>\n",
       "      <th>4</th>\n",
       "      <td>115213.961003</td>\n",
       "      <td>6.107031e+05</td>\n",
       "      <td>-18288.561201</td>\n",
       "      <td>-3722.700020</td>\n",
       "      <td>0</td>\n",
       "    </tr>\n",
       "    <tr>\n",
       "      <th>...</th>\n",
       "      <td>...</td>\n",
       "      <td>...</td>\n",
       "      <td>...</td>\n",
       "      <td>...</td>\n",
       "      <td>...</td>\n",
       "    </tr>\n",
       "    <tr>\n",
       "      <th>307505</th>\n",
       "      <td>115213.961003</td>\n",
       "      <td>2.468538e+05</td>\n",
       "      <td>-10553.490924</td>\n",
       "      <td>-1070.072054</td>\n",
       "      <td>0</td>\n",
       "    </tr>\n",
       "    <tr>\n",
       "      <th>307506</th>\n",
       "      <td>115213.961003</td>\n",
       "      <td>2.468538e+05</td>\n",
       "      <td>-22181.062901</td>\n",
       "      <td>365243.000000</td>\n",
       "      <td>0</td>\n",
       "    </tr>\n",
       "    <tr>\n",
       "      <th>307507</th>\n",
       "      <td>115213.961003</td>\n",
       "      <td>6.107031e+05</td>\n",
       "      <td>-14404.806910</td>\n",
       "      <td>-8570.076679</td>\n",
       "      <td>0</td>\n",
       "    </tr>\n",
       "    <tr>\n",
       "      <th>307508</th>\n",
       "      <td>115213.961003</td>\n",
       "      <td>2.468538e+05</td>\n",
       "      <td>-10553.490924</td>\n",
       "      <td>-3722.700020</td>\n",
       "      <td>1</td>\n",
       "    </tr>\n",
       "    <tr>\n",
       "      <th>307509</th>\n",
       "      <td>115213.961003</td>\n",
       "      <td>6.107031e+05</td>\n",
       "      <td>-18288.561201</td>\n",
       "      <td>-1070.072054</td>\n",
       "      <td>0</td>\n",
       "    </tr>\n",
       "  </tbody>\n",
       "</table>\n",
       "<p>307510 rows × 5 columns</p>\n",
       "</div>"
      ],
      "text/plain": [
       "        AMT_INCOME_TOTAL    AMT_CREDIT    DAYS_BIRTH  DAYS_EMPLOYED  TARGET\n",
       "0          231598.966129  2.468538e+05 -10553.490924   -1070.072054       1\n",
       "1          231598.966129  1.080084e+06 -18288.561201   -1070.072054       0\n",
       "2          115213.961003  2.468538e+05 -18288.561201   -1070.072054       0\n",
       "3          115213.961003  2.468538e+05 -18288.561201   -3722.700020       0\n",
       "4          115213.961003  6.107031e+05 -18288.561201   -3722.700020       0\n",
       "...                  ...           ...           ...            ...     ...\n",
       "307505     115213.961003  2.468538e+05 -10553.490924   -1070.072054       0\n",
       "307506     115213.961003  2.468538e+05 -22181.062901  365243.000000       0\n",
       "307507     115213.961003  6.107031e+05 -14404.806910   -8570.076679       0\n",
       "307508     115213.961003  2.468538e+05 -10553.490924   -3722.700020       1\n",
       "307509     115213.961003  6.107031e+05 -18288.561201   -1070.072054       0\n",
       "\n",
       "[307510 rows x 5 columns]"
      ]
     },
     "execution_count": 453,
     "metadata": {},
     "output_type": "execute_result"
    }
   ],
   "source": [
    "data_k4_bycol = data.copy()\n",
    "data_k4_bycol[sensitive_cols] = k_means_by_col(data[sensitive_cols], n_clusters=4)\n",
    "data_k4_bycol"
   ]
  },
  {
   "cell_type": "code",
   "execution_count": 454,
   "id": "e5dfb721",
   "metadata": {},
   "outputs": [
    {
     "name": "stdout",
     "output_type": "stream",
     "text": [
      "MSE de Kmeans general:\n",
      "AMT_INCOME_TOTAL    102846.410411\n",
      "AMT_CREDIT          171602.445342\n",
      "DAYS_BIRTH            3617.825037\n",
      "DAYS_EMPLOYED        77740.176862\n",
      "TARGET                   0.000000\n",
      "dtype: float64\n",
      "MSE medio: 71161.37153049634\n"
     ]
    }
   ],
   "source": [
    "print('MSE de Kmeans general:')\n",
    "print(mse_by_col(data, data_k4, squared=False))\n",
    "print('MSE medio:', mse_by_col(data, data_k4, squared=False).mean())"
   ]
  },
  {
   "cell_type": "code",
   "execution_count": 455,
   "id": "0dac0ac8",
   "metadata": {},
   "outputs": [
    {
     "name": "stdout",
     "output_type": "stream",
     "text": [
      "MSE de Kmeans por columnas:\n"
     ]
    },
    {
     "name": "stdout",
     "output_type": "stream",
     "text": [
      "AMT_INCOME_TOTAL     57823.011392\n",
      "AMT_CREDIT          127441.979399\n",
      "DAYS_BIRTH            1166.422100\n",
      "DAYS_EMPLOYED          852.007628\n",
      "TARGET                   0.000000\n",
      "dtype: float64\n",
      "MSE medio 37456.68410375629\n"
     ]
    }
   ],
   "source": [
    "print('MSE de Kmeans por columnas:')\n",
    "print(mse_by_col(data, data_k4_bycol, squared=False))\n",
    "print('MSE medio', mse_by_col(data, data_k4_bycol, squared=False).mean())"
   ]
  },
  {
   "cell_type": "code",
   "execution_count": 456,
   "id": "23d94691",
   "metadata": {},
   "outputs": [
    {
     "data": {
      "text/plain": [
       "1"
      ]
     },
     "execution_count": 456,
     "metadata": {},
     "output_type": "execute_result"
    }
   ],
   "source": [
    "k_anonymity(data_k4_bycol)"
   ]
  },
  {
   "cell_type": "code",
   "execution_count": 457,
   "id": "8f0e19d4",
   "metadata": {},
   "outputs": [
    {
     "data": {
      "text/plain": [
       "13"
      ]
     },
     "execution_count": 457,
     "metadata": {},
     "output_type": "execute_result"
    }
   ],
   "source": [
    "k_anonymity(data_k4_bycol, sizes=True).count(1)"
   ]
  },
  {
   "cell_type": "markdown",
   "id": "82bb2006",
   "metadata": {},
   "source": [
    "Parece que en este caso tenemos, más o menos, la mitad de pérdida de información que antes, pero no hemos conseguido cumplir k-anonimity. Hay diez combinaciones de valores que son únicas. Tal vez haciendo menos grupos en alguna columna lo conseguiríamos."
   ]
  },
  {
   "cell_type": "markdown",
   "id": "037d9d5d",
   "metadata": {},
   "source": [
    "#### Microagregaciones"
   ]
  },
  {
   "cell_type": "markdown",
   "id": "445d6b46",
   "metadata": {},
   "source": [
    "Es una manera de garantizar k-anonymity que consiste en ir haciendo grupos de \"k\" registros similares de forma iterativa, hasta que todos los registros estén en un grupo de, al menos, ese tamaño."
   ]
  },
  {
   "cell_type": "code",
   "execution_count": 458,
   "id": "ef7f7f35",
   "metadata": {},
   "outputs": [],
   "source": [
    "def euclidean_distance(v1, v2):\n",
    "    if type(v1) == pd.DataFrame or type(v2) == pd.DataFrame:\n",
    "        return np.sqrt((v2 - v1).pow(2).sum(axis=1))\n",
    "    else:\n",
    "        return np.sqrt(np.sum((v2 - v1)**2))\n",
    "\n",
    "def microaggregation(df, k):\n",
    "    input_df = df.copy()\n",
    "    output_df = df.copy()\n",
    "    while len(input_df) >= 3*k:\n",
    "        # (a) Compute the average record x˜ of all records in R. The average record is computed attribute-wise.\n",
    "        # (b) Consider the most distant record xr to the average record x˜ using an appropriate distance.\n",
    "        # (c) Find the most distant record xs from the record xr considered in the previous step.\n",
    "        # (d) Form two clusters around xr and xs, respectively. One cluster contains xr and the k −1 records closest to xr. The other cluster contains xs and the k −1 records closest to xs.\n",
    "        # (e) Take as a new dataset R the previous dataset R minus the clusters formed around xr and xs in the last instance of Step 1d\n",
    "        \n",
    "        mean_row = input_df.mean(axis=0)\n",
    "        \n",
    "        r_index = euclidean_distance(mean_row, input_df).idxmax()\n",
    "        r_row = input_df.loc[r_index]\n",
    "        r_distances = euclidean_distance(r_row, input_df)\n",
    "        r_cluster_indexes = r_distances.nsmallest(k).index\n",
    "        r_cluster = input_df.loc[r_cluster_indexes]\n",
    "        r_cluster_mean = r_cluster.mean(axis=0)\n",
    "        \n",
    "        s_index = r_distances.idxmax()\n",
    "        s_row = input_df.loc[s_index]\n",
    "        s_distances = euclidean_distance(s_row, input_df)\n",
    "        s_cluster_indexes = s_distances.nsmallest(k).index\n",
    "        s_cluster = input_df.loc[s_cluster_indexes]\n",
    "        s_cluster_mean = s_cluster.mean(axis=0)\n",
    "        \n",
    "        if len(r_cluster_indexes.intersection(s_cluster_indexes)) > 0:\n",
    "            a = 1+1\n",
    "        \n",
    "        output_df.loc[r_cluster.index] = r_cluster_mean.values\n",
    "        output_df.loc[s_cluster.index] = s_cluster_mean.values\n",
    "        \n",
    "        input_df.drop(r_cluster.index, axis=0, inplace=True)\n",
    "        input_df.drop(s_cluster.index, axis=0, inplace=True)\n",
    "    \n",
    "    if 3*k-1 > len(input_df) >= 2*k:\n",
    "        # (a) compute the average record x˜ of the remaining records in R\n",
    "        # (b) find the most distant record xr from x˜\n",
    "        # (c) form a cluster containing xr and the k − 1 records closest to xr\n",
    "        # (d) form another cluster containing the rest of records.\n",
    "        \n",
    "        mean_row = input_df.mean(axis=0)\n",
    "        \n",
    "        r_index = euclidean_distance(mean_row, input_df).idxmax()\n",
    "        r_row = input_df.loc[r_index]\n",
    "        r_distances = euclidean_distance(r_row, input_df)\n",
    "        r_cluster_indexes = r_distances.nsmallest(k).index\n",
    "        r_cluster = input_df.loc[r_cluster_indexes]\n",
    "        r_cluster_mean = r_cluster.mean(axis=0)\n",
    "        \n",
    "        output_df.loc[r_cluster.index] = r_cluster_mean.values\n",
    "        \n",
    "        input_df.drop(r_cluster.index, axis=0, inplace=True)\n",
    "        \n",
    "        s_cluster = input_df\n",
    "        s_cluster_mean = s_cluster.mean(axis=0)\n",
    "        \n",
    "        output_df.loc[s_cluster.index] = s_cluster_mean.values\n",
    "        \n",
    "        input_df.drop(s_cluster.index, axis=0, inplace=True)\n",
    "        \n",
    "    else:\n",
    "        # form a new cluster with the remaining records\n",
    "        \n",
    "        s_cluster = input_df\n",
    "        s_cluster_mean = s_cluster.mean(axis=0)\n",
    "        \n",
    "        output_df.loc[s_cluster.index] = s_cluster_mean.values\n",
    "        \n",
    "        input_df.drop(s_cluster.index, axis=0, inplace=True)\n",
    "        \n",
    "    return output_df"
   ]
  },
  {
   "cell_type": "code",
   "execution_count": 459,
   "id": "3673a474",
   "metadata": {},
   "outputs": [
    {
     "data": {
      "text/html": [
       "<div>\n",
       "<style scoped>\n",
       "    .dataframe tbody tr th:only-of-type {\n",
       "        vertical-align: middle;\n",
       "    }\n",
       "\n",
       "    .dataframe tbody tr th {\n",
       "        vertical-align: top;\n",
       "    }\n",
       "\n",
       "    .dataframe thead th {\n",
       "        text-align: right;\n",
       "    }\n",
       "</style>\n",
       "<table border=\"1\" class=\"dataframe\">\n",
       "  <thead>\n",
       "    <tr style=\"text-align: right;\">\n",
       "      <th></th>\n",
       "      <th>AMT_INCOME_TOTAL</th>\n",
       "      <th>AMT_CREDIT</th>\n",
       "      <th>DAYS_BIRTH</th>\n",
       "      <th>DAYS_EMPLOYED</th>\n",
       "      <th>TARGET</th>\n",
       "    </tr>\n",
       "  </thead>\n",
       "  <tbody>\n",
       "    <tr>\n",
       "      <th>0</th>\n",
       "      <td>192266.865</td>\n",
       "      <td>395262.612</td>\n",
       "      <td>-14906.306</td>\n",
       "      <td>-2273.266</td>\n",
       "      <td>1</td>\n",
       "    </tr>\n",
       "    <tr>\n",
       "      <th>1</th>\n",
       "      <td>274489.029</td>\n",
       "      <td>1283176.737</td>\n",
       "      <td>-15844.408</td>\n",
       "      <td>-2752.450</td>\n",
       "      <td>0</td>\n",
       "    </tr>\n",
       "    <tr>\n",
       "      <th>2</th>\n",
       "      <td>68936.193</td>\n",
       "      <td>129854.853</td>\n",
       "      <td>-15652.838</td>\n",
       "      <td>-2811.636</td>\n",
       "      <td>0</td>\n",
       "    </tr>\n",
       "    <tr>\n",
       "      <th>3</th>\n",
       "      <td>134687.664</td>\n",
       "      <td>318030.570</td>\n",
       "      <td>-15703.644</td>\n",
       "      <td>-3296.750</td>\n",
       "      <td>0</td>\n",
       "    </tr>\n",
       "    <tr>\n",
       "      <th>4</th>\n",
       "      <td>120796.686</td>\n",
       "      <td>510517.521</td>\n",
       "      <td>-13096.330</td>\n",
       "      <td>-1925.398</td>\n",
       "      <td>0</td>\n",
       "    </tr>\n",
       "    <tr>\n",
       "      <th>...</th>\n",
       "      <td>...</td>\n",
       "      <td>...</td>\n",
       "      <td>...</td>\n",
       "      <td>...</td>\n",
       "      <td>...</td>\n",
       "    </tr>\n",
       "    <tr>\n",
       "      <th>307505</th>\n",
       "      <td>147582.018</td>\n",
       "      <td>257568.129</td>\n",
       "      <td>-11346.830</td>\n",
       "      <td>-1248.180</td>\n",
       "      <td>0</td>\n",
       "    </tr>\n",
       "    <tr>\n",
       "      <th>307506</th>\n",
       "      <td>70693.848</td>\n",
       "      <td>276607.179</td>\n",
       "      <td>-22128.824</td>\n",
       "      <td>365243.000</td>\n",
       "      <td>0</td>\n",
       "    </tr>\n",
       "    <tr>\n",
       "      <th>307507</th>\n",
       "      <td>157718.700</td>\n",
       "      <td>678622.608</td>\n",
       "      <td>-16394.880</td>\n",
       "      <td>-3773.762</td>\n",
       "      <td>0</td>\n",
       "    </tr>\n",
       "    <tr>\n",
       "      <th>307508</th>\n",
       "      <td>176914.800</td>\n",
       "      <td>371054.241</td>\n",
       "      <td>-15815.266</td>\n",
       "      <td>-2958.156</td>\n",
       "      <td>1</td>\n",
       "    </tr>\n",
       "    <tr>\n",
       "      <th>307509</th>\n",
       "      <td>167455.071</td>\n",
       "      <td>674760.798</td>\n",
       "      <td>-14503.130</td>\n",
       "      <td>-1547.978</td>\n",
       "      <td>0</td>\n",
       "    </tr>\n",
       "  </tbody>\n",
       "</table>\n",
       "<p>307510 rows × 5 columns</p>\n",
       "</div>"
      ],
      "text/plain": [
       "        AMT_INCOME_TOTAL   AMT_CREDIT  DAYS_BIRTH  DAYS_EMPLOYED  TARGET\n",
       "0             192266.865   395262.612  -14906.306      -2273.266       1\n",
       "1             274489.029  1283176.737  -15844.408      -2752.450       0\n",
       "2              68936.193   129854.853  -15652.838      -2811.636       0\n",
       "3             134687.664   318030.570  -15703.644      -3296.750       0\n",
       "4             120796.686   510517.521  -13096.330      -1925.398       0\n",
       "...                  ...          ...         ...            ...     ...\n",
       "307505        147582.018   257568.129  -11346.830      -1248.180       0\n",
       "307506         70693.848   276607.179  -22128.824     365243.000       0\n",
       "307507        157718.700   678622.608  -16394.880      -3773.762       0\n",
       "307508        176914.800   371054.241  -15815.266      -2958.156       1\n",
       "307509        167455.071   674760.798  -14503.130      -1547.978       0\n",
       "\n",
       "[307510 rows x 5 columns]"
      ]
     },
     "execution_count": 459,
     "metadata": {},
     "output_type": "execute_result"
    }
   ],
   "source": [
    "data_k500_microagg = data.copy()\n",
    "data_k500_microagg[sensitive_cols] = microaggregation(data[sensitive_cols], k=500)\n",
    "data_k500_microagg"
   ]
  },
  {
   "cell_type": "code",
   "execution_count": 460,
   "id": "e7201a56",
   "metadata": {},
   "outputs": [
    {
     "data": {
      "text/plain": [
       "8"
      ]
     },
     "execution_count": 460,
     "metadata": {},
     "output_type": "execute_result"
    }
   ],
   "source": [
    "k_anonymity(data_k500_microagg)"
   ]
  },
  {
   "cell_type": "markdown",
   "id": "4f85a890",
   "metadata": {},
   "source": [
    "Debemos tener en cuenta que TARGET no la agrupamos, motivo por el que no obtenemos un \"k\" de 500. Si incluyesemos esa columna en las microagregaciones, sí lo conseguiríamos, pero perderíamos utilidad de la variable objetivo."
   ]
  },
  {
   "cell_type": "code",
   "execution_count": 461,
   "id": "ca5bc6ec",
   "metadata": {},
   "outputs": [
    {
     "name": "stdout",
     "output_type": "stream",
     "text": [
      "MSE de Microagregaciones:\n",
      "AMT_INCOME_TOTAL    51442.990708\n",
      "AMT_CREDIT          32691.881290\n",
      "DAYS_BIRTH           3161.521541\n",
      "DAYS_EMPLOYED       16475.169344\n",
      "TARGET                  0.000000\n",
      "dtype: float64\n",
      "MSE medio 20754.31257641089\n"
     ]
    }
   ],
   "source": [
    "print('MSE de Microagregaciones:')\n",
    "print(mse_by_col(data, data_k500_microagg, squared=False))\n",
    "print('MSE medio', mse_by_col(data, data_k500_microagg, squared=False).mean())"
   ]
  },
  {
   "cell_type": "code",
   "execution_count": 462,
   "id": "bed566af",
   "metadata": {},
   "outputs": [],
   "source": [
    "# l-diversity y t-closeness"
   ]
  },
  {
   "cell_type": "code",
   "execution_count": 463,
   "id": "da3c18ea",
   "metadata": {},
   "outputs": [],
   "source": [
    "# Randomización\n",
    "\n",
    "# Diferencial privacy"
   ]
  },
  {
   "cell_type": "code",
   "execution_count": 464,
   "id": "100349b5",
   "metadata": {},
   "outputs": [],
   "source": [
    "# Otras técnicas\n",
    "\n",
    "# PCA"
   ]
  }
 ],
 "metadata": {
  "kernelspec": {
   "display_name": "Python 3 (ipykernel)",
   "language": "python",
   "name": "python3"
  },
  "language_info": {
   "codemirror_mode": {
    "name": "ipython",
    "version": 3
   },
   "file_extension": ".py",
   "mimetype": "text/x-python",
   "name": "python",
   "nbconvert_exporter": "python",
   "pygments_lexer": "ipython3",
   "version": "3.9.15"
  }
 },
 "nbformat": 4,
 "nbformat_minor": 5
}
